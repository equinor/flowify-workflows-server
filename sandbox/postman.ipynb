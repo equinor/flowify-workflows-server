{
 "cells": [
  {
   "cell_type": "code",
   "execution_count": 1,
   "id": "5c0af8af",
   "metadata": {},
   "outputs": [],
   "source": [
    "import json\n",
    "import requests\n",
    "import jwt"
   ]
  },
  {
   "cell_type": "code",
   "execution_count": null,
   "id": "76b84bca",
   "metadata": {},
   "outputs": [],
   "source": [
    "auth_token= jwt.encode({\"name\": \"F. Lowe\", \"email\": \"flow@sand.box\", \"roles\": \"\\[\\\"sandbox-developer\\\"\\]\"}, \"dummy-secret\", algorithm=\"HS256\")\n",
    "hed = {'Authorization': 'Bearer ' + auth_token}\n",
    "print(hed)\n",
    "workspace = \"sandbox-project-a\"\n",
    "base_url = \"http://127.0.0.1:8842\""
   ]
  },
  {
   "cell_type": "code",
   "execution_count": 3,
   "id": "04191439",
   "metadata": {},
   "outputs": [],
   "source": [
    "def get(path, headers):\n",
    "    url = base_url + path\n",
    "    return requests.get(url, headers=headers)\n",
    "\n",
    "def post(path, data, headers):\n",
    "    url = base_url + path\n",
    "    return requests.post(url, headers=headers, data=data)"
   ]
  },
  {
   "cell_type": "code",
   "execution_count": 6,
   "id": "fd98ff46",
   "metadata": {},
   "outputs": [
    {
     "data": {
      "text/plain": [
       "'{\"items\":[{\"name\":\"awsome-sugar\",\"description\":\"Smallest possible component uses the any implementation\",\"modifiedBy\":\"flow@flowify.io\",\"uid\":\"dd8da129-cd48-4c52-857a-0d3a8a00c348\",\"previous\":\"00000000-0000-0000-0000-000000000000\",\"timestamp\":\"2022-03-23T14:29:52.563Z\"},{\"description\":\"Smallest possible component uses the any implementation\",\"modifiedBy\":\"flow@flowify.io\",\"uid\":\"b5a6936d-13bc-4827-a51c-0574cb83719e\",\"previous\":\"00000000-0000-0000-0000-000000000000\",\"timestamp\":\"2022-03-24T11:35:00.61Z\"},{\"name\":\"awsome-sugar\",\"description\":\"Smallest possible component uses the any implementation\",\"modifiedBy\":\"flow@flowify.io\",\"uid\":\"18557bd7-aabf-4c48-a9e5-3ea8a0008703\",\"previous\":\"00000000-0000-0000-0000-000000000000\",\"timestamp\":\"2022-03-24T11:35:08.688Z\"}]}'"
      ]
     },
     "execution_count": 6,
     "metadata": {},
     "output_type": "execute_result"
    }
   ],
   "source": [
    "# url = 'http://localhost:8842/api/v1/workflow-templates/sandbox-project-a/workflow-with-random-name-based-on-time-1644932295579'\n",
    "# url = 'http://localhost:8842/api/v1/workflows'\n",
    "\n",
    "url = f\"/api/v2/components/\"\n",
    "# response = requests.get(url, headers=hed)\n",
    "response = get(url, hed)\n",
    "response.text"
   ]
  },
  {
   "cell_type": "code",
   "execution_count": null,
   "id": "2713e5c9",
   "metadata": {},
   "outputs": [],
   "source": [
    "for r in response.json()['items']:\n",
    "    print(r['content'])\n",
    "    break"
   ]
  },
  {
   "cell_type": "code",
   "execution_count": 24,
   "id": "a8d831e2",
   "metadata": {},
   "outputs": [
    {
     "data": {
      "text/plain": [
       "(b'404 page not found\\n',\n",
       " {'Content-Type': 'text/plain; charset=utf-8', 'X-Content-Type-Options': 'nosniff', 'Date': 'Thu, 24 Mar 2022 15:29:12 GMT', 'Content-Length': '19'},\n",
       " 'Not Found')"
      ]
     },
     "execution_count": 24,
     "metadata": {},
     "output_type": "execute_result"
    }
   ],
   "source": [
    "post_head = hed.copy()\n",
    "post_head['Content-type'] = \"application/json\"\n",
    "\n",
    "payload = '''{\n",
    "\"component\": {\n",
    "  \"description\": \"Smallest possible component uses the any implementation\",\n",
    "  \"inputs\": [],\n",
    "  \"outputs\": [],\n",
    "  \"type\": \"component\",\n",
    "  \"implementation\": {\n",
    "    \"type\": \"any\"\n",
    "  }\n",
    "}\n",
    "}'''\n",
    "r = post(\"/api/v2/components\", data=payload, headers=post_head)\n",
    "r.content, r.headers, r.reason"
   ]
  },
  {
   "cell_type": "code",
   "execution_count": 32,
   "id": "30dc610f",
   "metadata": {},
   "outputs": [
    {
     "data": {
      "text/plain": [
       "(b'{}',\n",
       " {'Content-Type': 'application/json', 'Location': '/api/v2/components//04ce871d-f07f-4594-b923-62ab4e18ce26', 'X-Flowify-Buildtime': 'to. 24. mars 15:29:30 +0100 2022', 'X-Flowify-Version': '93fc320', 'Date': 'Thu, 24 Mar 2022 15:32:33 GMT', 'Content-Length': '2'},\n",
       " 'Created')"
      ]
     },
     "execution_count": 32,
     "metadata": {},
     "output_type": "execute_result"
    }
   ],
   "source": [
    "post_head = hed.copy()\n",
    "post_head['Content-type'] = \"application/json\"\n",
    "\n",
    "payload = '''{\n",
    "\"component\": {\n",
    "\"name\": \"awsome-sugar\",\n",
    "  \"description\": \"Smallest possible component uses the any implementation\",\n",
    "  \"inputs\": [],\n",
    "  \"outputs\": [],\n",
    "  \"type\": \"component\",\n",
    "  \"implementation\": {\n",
    "    \"type\": \"any\"\n",
    "  }\n",
    "}\n",
    "}'''\n",
    "r = post(\"/api/v2/components/\", data=payload, headers=post_head)\n",
    "r.content, r.headers, r.reason"
   ]
  },
  {
   "cell_type": "code",
   "execution_count": 31,
   "id": "fce367b4",
   "metadata": {},
   "outputs": [
    {
     "data": {
      "text/plain": [
       "(b'{\"code\":400,\"summary\":\"error parsing request body\",\"detail\":\"cannot unmarshal abstract component: cannot unmarshal ComponentReference from \\\\\"error\\\\\": invalid UUID length: 7\"}',\n",
       " {'Content-Type': 'application/json', 'X-Flowify-Buildtime': 'to. 24. mars 15:29:30 +0100 2022', 'X-Flowify-Version': '93fc320', 'Date': 'Thu, 24 Mar 2022 15:32:17 GMT', 'Content-Length': '174'},\n",
       " 'Bad Request')"
      ]
     },
     "execution_count": 31,
     "metadata": {},
     "output_type": "execute_result"
    }
   ],
   "source": [
    "post_head = hed.copy()\n",
    "post_head['Content-type'] = \"application/json\"\n",
    "\n",
    "payload = '''{\n",
    "\"component\": {\n",
    "\"uid\": \"error\",\n",
    "\"name\": \"awsome-sugar\",\n",
    "  \"description\": \"Smallest possible component uses the any implementation\",\n",
    "  \"inputs\": [],\n",
    "  \"outputs\": [],\n",
    "  \"type\": \"component\",\n",
    "  \"implementation\": {\n",
    "    \"type\": \"any\"\n",
    "  }\n",
    "}\n",
    "}'''\n",
    "r = post(\"/api/v2/components/\", data=payload, headers=post_head)\n",
    "r.content, r.headers, r.reason"
   ]
  },
  {
   "cell_type": "code",
   "execution_count": 89,
   "id": "7a983642",
   "metadata": {},
   "outputs": [
    {
     "data": {
      "text/plain": [
       "(b'{\"code\":400,\"summary\":\"error parsing request body\",\"detail\":\"invalid character \\'}\\' looking for beginning of object key string\"}',\n",
       " {'Content-Type': 'application/json', 'X-Flowify-Buildtime': 'to. 24. mars 09:49:18 +0100 2022', 'X-Flowify-Version': '93fc320', 'Date': 'Thu, 24 Mar 2022 11:35:11 GMT', 'Content-Length': '127'},\n",
       " 'Bad Request')"
      ]
     },
     "execution_count": 89,
     "metadata": {},
     "output_type": "execute_result"
    }
   ],
   "source": [
    "post_head = hed.copy()\n",
    "post_head['Content-type'] = \"application/json\"\n",
    "\n",
    "payload = '''{\n",
    "\"component\": {\n",
    "\"name\": \"awsome-sugar\",\n",
    "  \"description\": \"Smallest possible component uses the any implementation\",\n",
    "  \"inputs\": [],\n",
    "  \"outputs\": [],\n",
    "  \"type\": \"component\",\n",
    "}'''\n",
    "r = post(\"/api/v2/components\", data=payload, headers=post_head)\n",
    "r.content, r.headers, r.reason"
   ]
  },
  {
   "cell_type": "code",
   "execution_count": 7,
   "id": "5500cdce",
   "metadata": {},
   "outputs": [],
   "source": [
    "import json"
   ]
  },
  {
   "cell_type": "code",
   "execution_count": 12,
   "id": "7ed28bb4",
   "metadata": {},
   "outputs": [],
   "source": [
    "def cmp(name): return { \"type\": \"component\", \"name\": f\"{name}\", \"description\": \"description\", \"implementation\": { \"type\": \"any\"} }"
   ]
  },
  {
   "cell_type": "code",
   "execution_count": 13,
   "id": "5d84556d",
   "metadata": {},
   "outputs": [
    {
     "data": {
      "text/plain": [
       "{'type': 'component',\n",
       " 'name': 'ola',\n",
       " 'description': 'description',\n",
       " 'implementation': {'type': 'any'}}"
      ]
     },
     "execution_count": 13,
     "metadata": {},
     "output_type": "execute_result"
    }
   ],
   "source": [
    "cmp(\"ola\")"
   ]
  },
  {
   "cell_type": "code",
   "execution_count": 15,
   "id": "fe727400",
   "metadata": {},
   "outputs": [
    {
     "data": {
      "text/plain": [
       "'{\"type\": \"component\", \"name\": \"ola\", \"description\": \"description\", \"implementation\": {\"type\": \"any\"}}'"
      ]
     },
     "execution_count": 15,
     "metadata": {},
     "output_type": "execute_result"
    }
   ],
   "source": [
    "json.dumps(cmp(\"ola\"))"
   ]
  },
  {
   "cell_type": "code",
   "execution_count": 34,
   "id": "2b4835bc",
   "metadata": {},
   "outputs": [
    {
     "name": "stdout",
     "output_type": "stream",
     "text": [
      "Posting cmp: 0\n",
      "Code: {}\n",
      "Posting cmp: 1\n",
      "Code: {}\n",
      "Posting cmp: 2\n",
      "Code: {}\n",
      "Posting cmp: 3\n",
      "Code: {}\n",
      "Posting cmp: 4\n",
      "Code: {}\n",
      "Posting cmp: 5\n",
      "Code: {}\n",
      "Posting cmp: 6\n",
      "Code: {}\n",
      "Posting cmp: 7\n",
      "Code: {}\n",
      "Posting cmp: 8\n",
      "Code: {}\n",
      "Posting cmp: 9\n",
      "Code: {}\n",
      "Posting cmp: 10\n",
      "Code: {}\n",
      "Posting cmp: 11\n",
      "Code: {}\n",
      "Posting cmp: 12\n",
      "Code: {}\n",
      "Posting cmp: 13\n",
      "Code: {}\n",
      "Posting cmp: 14\n",
      "Code: {}\n",
      "Posting cmp: 15\n",
      "Code: {}\n",
      "Posting cmp: 16\n",
      "Code: {}\n",
      "Posting cmp: 17\n",
      "Code: {}\n",
      "Posting cmp: 18\n",
      "Code: {}\n",
      "Posting cmp: 19\n",
      "Code: {}\n"
     ]
    }
   ],
   "source": [
    "post_head = hed.copy()\n",
    "post_head['Content-type'] = \"application/json\"\n",
    "\n",
    "for i in range(20):\n",
    "    print(f'Posting cmp: {i}')\n",
    "    r = post(\"/api/v2/components/\", data=json.dumps({ \"component\": cmp(f\"component-{i}\")}), headers=post_head)\n",
    "    r.content, r.headers, r.reason\n",
    "    print(f'Code: {r.text}')"
   ]
  },
  {
   "cell_type": "code",
   "execution_count": 17,
   "id": "8582cdd0",
   "metadata": {},
   "outputs": [
    {
     "data": {
      "text/plain": [
       "{'type': 'component',\n",
       " 'name': 'component-3',\n",
       " 'description': 'description',\n",
       " 'implementation': {'type': 'any'}}"
      ]
     },
     "execution_count": 17,
     "metadata": {},
     "output_type": "execute_result"
    }
   ],
   "source": [
    "cmp(f\"component-{3}\")"
   ]
  },
  {
   "cell_type": "code",
   "execution_count": 54,
   "id": "dab1b940",
   "metadata": {},
   "outputs": [
    {
     "name": "stdout",
     "output_type": "stream",
     "text": [
      "0 component-19\n"
     ]
    }
   ],
   "source": [
    "url = f\"/api/v2/components/?limit=5&offset=19\"\n",
    "response = get(url, hed)\n",
    "for i, r in enumerate(response.json()['items']):\n",
    "    try:\n",
    "        print(i, r['name'])\n",
    "    except: pass\n"
   ]
  },
  {
   "cell_type": "code",
   "execution_count": null,
   "id": "9eb6a2fd",
   "metadata": {},
   "outputs": [],
   "source": []
  }
 ],
 "metadata": {
  "kernelspec": {
   "display_name": "Python 3.10.4 64-bit",
   "language": "python",
   "name": "python3"
  },
  "language_info": {
   "codemirror_mode": {
    "name": "ipython",
    "version": 3
   },
   "file_extension": ".py",
   "mimetype": "text/x-python",
   "name": "python",
   "nbconvert_exporter": "python",
   "pygments_lexer": "ipython3",
   "version": "3.10.4"
  },
  "vscode": {
   "interpreter": {
    "hash": "916dbcbb3f70747c44a77c7bcd40155683ae19c65e1c03b4aa3499c5328201f1"
   }
  }
 },
 "nbformat": 4,
 "nbformat_minor": 5
}
